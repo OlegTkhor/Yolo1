{
  "cells": [
    {
      "cell_type": "markdown",
      "metadata": {
        "id": "view-in-github",
        "colab_type": "text"
      },
      "source": [
        "<a href=\"https://colab.research.google.com/github/OlegTkhor/Yolo1/blob/main/Welcome_To_Colaboratory.ipynb\" target=\"_parent\"><img src=\"https://colab.research.google.com/assets/colab-badge.svg\" alt=\"Open In Colab\"/></a>"
      ]
    },
    {
      "cell_type": "code",
      "source": [
        "import torch\n",
        "import torch.nn as nn\n",
        "\n",
        "architecture_config = [\n",
        "      #Tuple : (kernel_size, num_filters, stride, padding)\n",
        "      (7,64,2,3),\n",
        "      \"M\",\n",
        "      (3,192,1,1),\n",
        "      \"M\",\n",
        "      (1,128,1,0),\n",
        "      (3,256,1,1),\n",
        "      (1,256,1,0),\n",
        "      (3,512,1,1),\n",
        "      \"M\",\n",
        "      #List: tuple, tuple, how many to repeat\n",
        "      [(1,256,1,0),(3,512,1,1),4],\n",
        "      (1,512,1,0),\n",
        "      (3,1024,1,1),\n",
        "      \"M\",\n",
        "      [(1,512,1,0),(3,1024,1,1),2],\n",
        "      (3,1024,1,1),\n",
        "      (3,1024,2,1),\n",
        "      (3,1024,1,1),\n",
        "      (3,1024,1,1),\n",
        "]\n",
        "\n",
        "class CNNBlock(nn.Module):\n",
        "  def __init__(self, in_channels, out_channels, **kwargs): \n",
        "    super(CNNBlock, self).__init__()\n",
        "    self.conv = nn.Conv2d(in_channels, out_channels, bias=False, **kwargs)\n",
        "    self.batchnorm = nn.BatchNorm2d(out_channels)\n",
        "    self.leakyrelu = nn.LeakyReLU(0.1)\n",
        "  def forward(self, x):\n",
        "    return self.leakyrelu(self.batchnorm(self.conv(x)))\n",
        "\n",
        "class Yolov1(nn.Module):\n",
        "  def __init__(self, in_channels=3):\n",
        "      super(Yolov1, self).__init__()\n",
        "      self.achitecture = architecture_config\n",
        "      self.in_channels = in_channels"
      ],
      "metadata": {
        "id": "NbKECc1v5vI8"
      },
      "execution_count": 3,
      "outputs": []
    }
  ],
  "metadata": {
    "colab": {
      "collapsed_sections": [],
      "name": "Welcome To Colaboratory",
      "toc_visible": true,
      "provenance": [],
      "include_colab_link": true
    },
    "kernelspec": {
      "display_name": "Python 3",
      "name": "python3"
    }
  },
  "nbformat": 4,
  "nbformat_minor": 0
}